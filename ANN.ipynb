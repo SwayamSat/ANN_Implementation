{
 "cells": [
  {
   "cell_type": "markdown",
   "id": "a3e8b4fe",
   "metadata": {},
   "source": [
    "## Windows GPU setup for TensorFlow\n",
    "Follow these steps to enable GPU support for TensorFlow on Windows:\n",
    "1. Ensure you have a supported NVIDIA GPU and install the latest NVIDIA driver from the NVIDIA website.\n",
    "2. Install a CUDA toolkit version compatible with your TensorFlow version (see table below).\n",
    "3. Install the matching cuDNN runtime for that CUDA version and copy the cuDNN files into the CUDA directories (or use the NVIDIA cuDNN installer).\n",
    "4. Reboot the machine after installing drivers/CUDA/cuDNN.\n",
    "5. Install TensorFlow in your Python environment (shown in the next cell).\n",
    "\n",
    "Common compatibility (example):\n",
    "- TensorFlow 2.15.0: CUDA 11.8, cuDNN 8.6 (confirm on TensorFlow install docs for exact minor versions)\n",
    "- TensorFlow 2.10.x: CUDA 11.2, cuDNN 8.1\n",
    "\n",
    "If you tell me which TensorFlow version you want to use, I will provide the exact CUDA and cuDNN versions and download links."
   ]
  },
  {
   "cell_type": "markdown",
   "id": "372e0686",
   "metadata": {},
   "source": [
    "### Exact CUDA/cuDNN for TensorFlow 2.15.0 (Windows)\n",
    "TensorFlow 2.15.0 is commonly used with CUDA 11.8 and cuDNN 8.6. Below are the official sources and a step-by-step install summary for Windows. Always confirm on the official TensorFlow GPU support page before installing.\n",
    "\n",
    "Official downloads:\n",
    "- NVIDIA drivers: https://www.nvidia.com/Download/index.aspx\n",
    "- CUDA Toolkit 11.8 (archive): https://developer.nvidia.com/cuda-11-8-0-download-archive\n",
    "- cuDNN 8.6 (for CUDA 11.x): https://developer.nvidia.com/rdp/cudnn-download\n",
    "\n",
    "Quick Windows installation summary:\n",
    "1) Install the latest NVIDIA GPU driver for your GPU from the NVIDIA driver page. Reboot after install.\n",
    "2) Download and install CUDA Toolkit 11.8 (choose the Windows exe local installer). During install you can accept defaults. Reboot after install.\n",
    "3) Register and download cuDNN 8.6 for CUDA 11.x from the NVIDIA Developer site. Extract the cuDNN zip and copy the contents into the CUDA installation folder (typically `C:\\Program Files\\NVIDIA GPU Computing Toolkit\\CUDA\\v11.8`): copy `bin/*` to `C:\\Program Files\\NVIDIA GPU Computing Toolkit\\CUDA\\v11.8\\bin`, `include/*` to `include`, and `lib/*` to `lib\\x64`.\n",
    "4) Add CUDA and cuDNN to your PATH if the installer didn't: add these to your system PATH (Windows Environment Variables):\n",
    "   - `C:\\Program Files\\NVIDIA GPU Computing Toolkit\\CUDA\\v11.8\\bin`\n",
    "   - `C:\\Program Files\\NVIDIA GPU Computing Toolkit\\CUDA\\v11.8\\lib\\x64`\n",
    "5) Reboot the machine.\n",
    "6) In your Python environment (venv or conda), install TensorFlow that matches this CUDA/cuDNN setup (example below installs TF 2.15.0).\n",
    "\n",
    "Verification steps (run the notebook diagnostics cell or run these commands in PowerShell):\n",
    "- `nvidia-smi` (shows driver version and GPU presence)\n",
    "- `nvcc --version` (shows CUDA toolkit version, if nvcc is on PATH)\n",
    "- In Python: `import tensorflow as tf; print(tf.__version__); print(tf.config.list_physical_devices('GPU'))`\n",
    "\n",
    "Notes and caveats:\n",
    "- The cuDNN download requires an NVIDIA Developer account (free).\n",
    "- If you have an existing CUDA installation that differs, you can either install a matching TensorFlow release or install multiple CUDA versions side-by-side (advanced).\n",
    "- If you want, I can produce a concise README with step-by-step PowerShell commands to perform the above automatically where possible."
   ]
  },
  {
   "cell_type": "code",
   "execution_count": null,
   "id": "eab67751",
   "metadata": {},
   "outputs": [
    {
     "name": "stdout",
     "output_type": "stream",
     "text": [
      "Python executable: c:\\Users\\supra\\anaconda3\\envs\\w2v\\python.exe\n",
      "Looking in indexes: https://pypi.org/simple, https://pypi.ngc.nvidia.com\n",
      "Requirement already satisfied: pip in c:\\users\\supra\\anaconda3\\envs\\w2v\\lib\\site-packages (25.2)\n",
      "Requirement already satisfied: setuptools in c:\\users\\supra\\anaconda3\\envs\\w2v\\lib\\site-packages (80.9.0)\n",
      "Requirement already satisfied: wheel in c:\\users\\supra\\anaconda3\\envs\\w2v\\lib\\site-packages (0.45.1)\n"
     ]
    }
   ],
   "source": [
    "# Install TensorFlow into the notebook's Python environment (run this in the notebook kernel).\n",
    "# Prefer installing outside the notebook in your venv/conda prompt.\n",
    "import sys\n",
    "print('Python executable:', sys.executable)\n",
    "!{sys.executable} -m pip install --upgrade pip setuptools wheel\n",
    "# Change the version below if you need a different TensorFlow release\n",
    "!{sys.executable} -m pip install --upgrade tensorflow==2.15.0"
   ]
  },
  {
   "cell_type": "code",
   "execution_count": null,
   "id": "f345beb5",
   "metadata": {},
   "outputs": [],
   "source": [
    "# Diagnostics: check TensorFlow, GPUs, CUDA driver version (Windows)\n",
    "import tensorflow as tf\n",
    "import sys, subprocess, re\n",
    "print('TensorFlow version:', tf.__version__)\n",
    "gpus = tf.config.list_physical_devices('GPU')\n",
    "print('GPUs detected by TensorFlow:', gpus)\n",
    "# Try to get NVIDIA driver and CUDA info via nvidia-smi if available\n",
    "try:\n",
    "    out = subprocess.check_output(['nvidia-smi', '--query-gpu=name,driver_version,memory.total --format=csv,noheader'], stderr=subprocess.STDOUT, universal_newlines=True)\n",
    "    print('\n",
    "Output from nvidia-smi:')\n",
    "    print(out)\n",
    "except Exception as e:\n",
    "    print('nvidia-smi not available or failed:', e)\n",
    "\n",
    "# If you need CUDA runtime details and nvcc is installed, this may print the version:\n",
    "try:\n",
    "    nvcc_out = subprocess.check_output(['nvcc', '--version'], stderr=subprocess.STDOUT, universal_newlines=True)\n",
    "    print('\n",
    "Output from nvcc --version:')\n",
    "    print(nvcc_out)\n",
    "except Exception as e:\n",
    "    print('nvcc not available or failed:', e)"
   ]
  }
 ],
 "metadata": {
  "kernelspec": {
   "display_name": "Python 3",
   "language": "python",
   "name": "python3"
  },
  "language_info": {
   "codemirror_mode": {
    "name": "ipython",
    "version": 3
   },
   "file_extension": ".py",
   "mimetype": "text/x-python",
   "name": "python",
   "nbconvert_exporter": "python",
   "pygments_lexer": "ipython3",
   "version": "3.10.18"
  }
 },
 "nbformat": 4,
 "nbformat_minor": 5
}
