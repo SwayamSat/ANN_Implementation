{
 "cells": [
  {
   "cell_type": "code",
   "execution_count": 1,
   "id": "fb843371",
   "metadata": {},
   "outputs": [
    {
     "name": "stdout",
     "output_type": "stream",
     "text": [
      "WARNING:tensorflow:From c:\\Users\\supra\\anaconda3\\envs\\w2v\\lib\\site-packages\\keras\\src\\losses.py:2976: The name tf.losses.sparse_softmax_cross_entropy is deprecated. Please use tf.compat.v1.losses.sparse_softmax_cross_entropy instead.\n",
      "\n"
     ]
    }
   ],
   "source": [
    "import tensorflow as tf\n",
    "import numpy as np\n",
    "import pandas as pd\n",
    "import matplotlib.pyplot as plt"
   ]
  },
  {
   "cell_type": "code",
   "execution_count": 2,
   "id": "35f3a945",
   "metadata": {},
   "outputs": [
    {
     "data": {
      "text/html": [
       "<div>\n",
       "<style scoped>\n",
       "    .dataframe tbody tr th:only-of-type {\n",
       "        vertical-align: middle;\n",
       "    }\n",
       "\n",
       "    .dataframe tbody tr th {\n",
       "        vertical-align: top;\n",
       "    }\n",
       "\n",
       "    .dataframe thead th {\n",
       "        text-align: right;\n",
       "    }\n",
       "</style>\n",
       "<table border=\"1\" class=\"dataframe\">\n",
       "  <thead>\n",
       "    <tr style=\"text-align: right;\">\n",
       "      <th></th>\n",
       "      <th>RowNumber</th>\n",
       "      <th>CustomerId</th>\n",
       "      <th>Surname</th>\n",
       "      <th>CreditScore</th>\n",
       "      <th>Geography</th>\n",
       "      <th>Gender</th>\n",
       "      <th>Age</th>\n",
       "      <th>Tenure</th>\n",
       "      <th>Balance</th>\n",
       "      <th>NumOfProducts</th>\n",
       "      <th>HasCrCard</th>\n",
       "      <th>IsActiveMember</th>\n",
       "      <th>EstimatedSalary</th>\n",
       "      <th>Exited</th>\n",
       "    </tr>\n",
       "  </thead>\n",
       "  <tbody>\n",
       "    <tr>\n",
       "      <th>0</th>\n",
       "      <td>1</td>\n",
       "      <td>15634602</td>\n",
       "      <td>Hargrave</td>\n",
       "      <td>619</td>\n",
       "      <td>France</td>\n",
       "      <td>Female</td>\n",
       "      <td>42</td>\n",
       "      <td>2</td>\n",
       "      <td>0.00</td>\n",
       "      <td>1</td>\n",
       "      <td>1</td>\n",
       "      <td>1</td>\n",
       "      <td>101348.88</td>\n",
       "      <td>1</td>\n",
       "    </tr>\n",
       "    <tr>\n",
       "      <th>1</th>\n",
       "      <td>2</td>\n",
       "      <td>15647311</td>\n",
       "      <td>Hill</td>\n",
       "      <td>608</td>\n",
       "      <td>Spain</td>\n",
       "      <td>Female</td>\n",
       "      <td>41</td>\n",
       "      <td>1</td>\n",
       "      <td>83807.86</td>\n",
       "      <td>1</td>\n",
       "      <td>0</td>\n",
       "      <td>1</td>\n",
       "      <td>112542.58</td>\n",
       "      <td>0</td>\n",
       "    </tr>\n",
       "    <tr>\n",
       "      <th>2</th>\n",
       "      <td>3</td>\n",
       "      <td>15619304</td>\n",
       "      <td>Onio</td>\n",
       "      <td>502</td>\n",
       "      <td>France</td>\n",
       "      <td>Female</td>\n",
       "      <td>42</td>\n",
       "      <td>8</td>\n",
       "      <td>159660.80</td>\n",
       "      <td>3</td>\n",
       "      <td>1</td>\n",
       "      <td>0</td>\n",
       "      <td>113931.57</td>\n",
       "      <td>1</td>\n",
       "    </tr>\n",
       "    <tr>\n",
       "      <th>3</th>\n",
       "      <td>4</td>\n",
       "      <td>15701354</td>\n",
       "      <td>Boni</td>\n",
       "      <td>699</td>\n",
       "      <td>France</td>\n",
       "      <td>Female</td>\n",
       "      <td>39</td>\n",
       "      <td>1</td>\n",
       "      <td>0.00</td>\n",
       "      <td>2</td>\n",
       "      <td>0</td>\n",
       "      <td>0</td>\n",
       "      <td>93826.63</td>\n",
       "      <td>0</td>\n",
       "    </tr>\n",
       "    <tr>\n",
       "      <th>4</th>\n",
       "      <td>5</td>\n",
       "      <td>15737888</td>\n",
       "      <td>Mitchell</td>\n",
       "      <td>850</td>\n",
       "      <td>Spain</td>\n",
       "      <td>Female</td>\n",
       "      <td>43</td>\n",
       "      <td>2</td>\n",
       "      <td>125510.82</td>\n",
       "      <td>1</td>\n",
       "      <td>1</td>\n",
       "      <td>1</td>\n",
       "      <td>79084.10</td>\n",
       "      <td>0</td>\n",
       "    </tr>\n",
       "  </tbody>\n",
       "</table>\n",
       "</div>"
      ],
      "text/plain": [
       "   RowNumber  CustomerId   Surname  CreditScore Geography  Gender  Age  \\\n",
       "0          1    15634602  Hargrave          619    France  Female   42   \n",
       "1          2    15647311      Hill          608     Spain  Female   41   \n",
       "2          3    15619304      Onio          502    France  Female   42   \n",
       "3          4    15701354      Boni          699    France  Female   39   \n",
       "4          5    15737888  Mitchell          850     Spain  Female   43   \n",
       "\n",
       "   Tenure    Balance  NumOfProducts  HasCrCard  IsActiveMember  \\\n",
       "0       2       0.00              1          1               1   \n",
       "1       1   83807.86              1          0               1   \n",
       "2       8  159660.80              3          1               0   \n",
       "3       1       0.00              2          0               0   \n",
       "4       2  125510.82              1          1               1   \n",
       "\n",
       "   EstimatedSalary  Exited  \n",
       "0        101348.88       1  \n",
       "1        112542.58       0  \n",
       "2        113931.57       1  \n",
       "3         93826.63       0  \n",
       "4         79084.10       0  "
      ]
     },
     "execution_count": 2,
     "metadata": {},
     "output_type": "execute_result"
    }
   ],
   "source": [
    "dataset = pd.read_csv('Churn_Modelling.csv')\n",
    "dataset.head()"
   ]
  },
  {
   "cell_type": "code",
   "execution_count": 3,
   "id": "dc0a1046",
   "metadata": {},
   "outputs": [],
   "source": [
    "#Divide the dataset into the independent and dependent features\n",
    "X=dataset.iloc[:,3:13]\n",
    "y=dataset.iloc[:,13]"
   ]
  },
  {
   "cell_type": "code",
   "execution_count": 4,
   "id": "908da8ab",
   "metadata": {},
   "outputs": [
    {
     "data": {
      "text/html": [
       "<div>\n",
       "<style scoped>\n",
       "    .dataframe tbody tr th:only-of-type {\n",
       "        vertical-align: middle;\n",
       "    }\n",
       "\n",
       "    .dataframe tbody tr th {\n",
       "        vertical-align: top;\n",
       "    }\n",
       "\n",
       "    .dataframe thead th {\n",
       "        text-align: right;\n",
       "    }\n",
       "</style>\n",
       "<table border=\"1\" class=\"dataframe\">\n",
       "  <thead>\n",
       "    <tr style=\"text-align: right;\">\n",
       "      <th></th>\n",
       "      <th>CreditScore</th>\n",
       "      <th>Geography</th>\n",
       "      <th>Gender</th>\n",
       "      <th>Age</th>\n",
       "      <th>Tenure</th>\n",
       "      <th>Balance</th>\n",
       "      <th>NumOfProducts</th>\n",
       "      <th>HasCrCard</th>\n",
       "      <th>IsActiveMember</th>\n",
       "      <th>EstimatedSalary</th>\n",
       "    </tr>\n",
       "  </thead>\n",
       "  <tbody>\n",
       "    <tr>\n",
       "      <th>0</th>\n",
       "      <td>619</td>\n",
       "      <td>France</td>\n",
       "      <td>Female</td>\n",
       "      <td>42</td>\n",
       "      <td>2</td>\n",
       "      <td>0.00</td>\n",
       "      <td>1</td>\n",
       "      <td>1</td>\n",
       "      <td>1</td>\n",
       "      <td>101348.88</td>\n",
       "    </tr>\n",
       "    <tr>\n",
       "      <th>1</th>\n",
       "      <td>608</td>\n",
       "      <td>Spain</td>\n",
       "      <td>Female</td>\n",
       "      <td>41</td>\n",
       "      <td>1</td>\n",
       "      <td>83807.86</td>\n",
       "      <td>1</td>\n",
       "      <td>0</td>\n",
       "      <td>1</td>\n",
       "      <td>112542.58</td>\n",
       "    </tr>\n",
       "    <tr>\n",
       "      <th>2</th>\n",
       "      <td>502</td>\n",
       "      <td>France</td>\n",
       "      <td>Female</td>\n",
       "      <td>42</td>\n",
       "      <td>8</td>\n",
       "      <td>159660.80</td>\n",
       "      <td>3</td>\n",
       "      <td>1</td>\n",
       "      <td>0</td>\n",
       "      <td>113931.57</td>\n",
       "    </tr>\n",
       "    <tr>\n",
       "      <th>3</th>\n",
       "      <td>699</td>\n",
       "      <td>France</td>\n",
       "      <td>Female</td>\n",
       "      <td>39</td>\n",
       "      <td>1</td>\n",
       "      <td>0.00</td>\n",
       "      <td>2</td>\n",
       "      <td>0</td>\n",
       "      <td>0</td>\n",
       "      <td>93826.63</td>\n",
       "    </tr>\n",
       "    <tr>\n",
       "      <th>4</th>\n",
       "      <td>850</td>\n",
       "      <td>Spain</td>\n",
       "      <td>Female</td>\n",
       "      <td>43</td>\n",
       "      <td>2</td>\n",
       "      <td>125510.82</td>\n",
       "      <td>1</td>\n",
       "      <td>1</td>\n",
       "      <td>1</td>\n",
       "      <td>79084.10</td>\n",
       "    </tr>\n",
       "  </tbody>\n",
       "</table>\n",
       "</div>"
      ],
      "text/plain": [
       "   CreditScore Geography  Gender  Age  Tenure    Balance  NumOfProducts  \\\n",
       "0          619    France  Female   42       2       0.00              1   \n",
       "1          608     Spain  Female   41       1   83807.86              1   \n",
       "2          502    France  Female   42       8  159660.80              3   \n",
       "3          699    France  Female   39       1       0.00              2   \n",
       "4          850     Spain  Female   43       2  125510.82              1   \n",
       "\n",
       "   HasCrCard  IsActiveMember  EstimatedSalary  \n",
       "0          1               1        101348.88  \n",
       "1          0               1        112542.58  \n",
       "2          1               0        113931.57  \n",
       "3          0               0         93826.63  \n",
       "4          1               1         79084.10  "
      ]
     },
     "execution_count": 4,
     "metadata": {},
     "output_type": "execute_result"
    }
   ],
   "source": [
    "X.head()\n"
   ]
  },
  {
   "cell_type": "code",
   "execution_count": 5,
   "id": "695c87fb",
   "metadata": {},
   "outputs": [
    {
     "data": {
      "text/plain": [
       "0       1\n",
       "1       0\n",
       "2       1\n",
       "3       0\n",
       "4       0\n",
       "       ..\n",
       "9995    0\n",
       "9996    0\n",
       "9997    1\n",
       "9998    1\n",
       "9999    0\n",
       "Name: Exited, Length: 10000, dtype: int64"
      ]
     },
     "execution_count": 5,
     "metadata": {},
     "output_type": "execute_result"
    }
   ],
   "source": [
    "y"
   ]
  },
  {
   "cell_type": "code",
   "execution_count": 6,
   "id": "efff59a7",
   "metadata": {},
   "outputs": [],
   "source": [
    "#Feature Engineering\n",
    "geography=pd.get_dummies(X['Geography'],drop_first=True)\n",
    "gender=pd.get_dummies(X['Gender'],drop_first=True)"
   ]
  },
  {
   "cell_type": "code",
   "execution_count": 7,
   "id": "28bee7c8",
   "metadata": {},
   "outputs": [],
   "source": [
    "#Concatenate these variables with Dataframe\n",
    "X.drop(['Geography','Gender'],axis=1,inplace=True)"
   ]
  },
  {
   "cell_type": "code",
   "execution_count": 8,
   "id": "a28e19b0",
   "metadata": {},
   "outputs": [
    {
     "data": {
      "text/html": [
       "<div>\n",
       "<style scoped>\n",
       "    .dataframe tbody tr th:only-of-type {\n",
       "        vertical-align: middle;\n",
       "    }\n",
       "\n",
       "    .dataframe tbody tr th {\n",
       "        vertical-align: top;\n",
       "    }\n",
       "\n",
       "    .dataframe thead th {\n",
       "        text-align: right;\n",
       "    }\n",
       "</style>\n",
       "<table border=\"1\" class=\"dataframe\">\n",
       "  <thead>\n",
       "    <tr style=\"text-align: right;\">\n",
       "      <th></th>\n",
       "      <th>CreditScore</th>\n",
       "      <th>Age</th>\n",
       "      <th>Tenure</th>\n",
       "      <th>Balance</th>\n",
       "      <th>NumOfProducts</th>\n",
       "      <th>HasCrCard</th>\n",
       "      <th>IsActiveMember</th>\n",
       "      <th>EstimatedSalary</th>\n",
       "    </tr>\n",
       "  </thead>\n",
       "  <tbody>\n",
       "    <tr>\n",
       "      <th>0</th>\n",
       "      <td>619</td>\n",
       "      <td>42</td>\n",
       "      <td>2</td>\n",
       "      <td>0.00</td>\n",
       "      <td>1</td>\n",
       "      <td>1</td>\n",
       "      <td>1</td>\n",
       "      <td>101348.88</td>\n",
       "    </tr>\n",
       "    <tr>\n",
       "      <th>1</th>\n",
       "      <td>608</td>\n",
       "      <td>41</td>\n",
       "      <td>1</td>\n",
       "      <td>83807.86</td>\n",
       "      <td>1</td>\n",
       "      <td>0</td>\n",
       "      <td>1</td>\n",
       "      <td>112542.58</td>\n",
       "    </tr>\n",
       "    <tr>\n",
       "      <th>2</th>\n",
       "      <td>502</td>\n",
       "      <td>42</td>\n",
       "      <td>8</td>\n",
       "      <td>159660.80</td>\n",
       "      <td>3</td>\n",
       "      <td>1</td>\n",
       "      <td>0</td>\n",
       "      <td>113931.57</td>\n",
       "    </tr>\n",
       "    <tr>\n",
       "      <th>3</th>\n",
       "      <td>699</td>\n",
       "      <td>39</td>\n",
       "      <td>1</td>\n",
       "      <td>0.00</td>\n",
       "      <td>2</td>\n",
       "      <td>0</td>\n",
       "      <td>0</td>\n",
       "      <td>93826.63</td>\n",
       "    </tr>\n",
       "    <tr>\n",
       "      <th>4</th>\n",
       "      <td>850</td>\n",
       "      <td>43</td>\n",
       "      <td>2</td>\n",
       "      <td>125510.82</td>\n",
       "      <td>1</td>\n",
       "      <td>1</td>\n",
       "      <td>1</td>\n",
       "      <td>79084.10</td>\n",
       "    </tr>\n",
       "    <tr>\n",
       "      <th>...</th>\n",
       "      <td>...</td>\n",
       "      <td>...</td>\n",
       "      <td>...</td>\n",
       "      <td>...</td>\n",
       "      <td>...</td>\n",
       "      <td>...</td>\n",
       "      <td>...</td>\n",
       "      <td>...</td>\n",
       "    </tr>\n",
       "    <tr>\n",
       "      <th>9995</th>\n",
       "      <td>771</td>\n",
       "      <td>39</td>\n",
       "      <td>5</td>\n",
       "      <td>0.00</td>\n",
       "      <td>2</td>\n",
       "      <td>1</td>\n",
       "      <td>0</td>\n",
       "      <td>96270.64</td>\n",
       "    </tr>\n",
       "    <tr>\n",
       "      <th>9996</th>\n",
       "      <td>516</td>\n",
       "      <td>35</td>\n",
       "      <td>10</td>\n",
       "      <td>57369.61</td>\n",
       "      <td>1</td>\n",
       "      <td>1</td>\n",
       "      <td>1</td>\n",
       "      <td>101699.77</td>\n",
       "    </tr>\n",
       "    <tr>\n",
       "      <th>9997</th>\n",
       "      <td>709</td>\n",
       "      <td>36</td>\n",
       "      <td>7</td>\n",
       "      <td>0.00</td>\n",
       "      <td>1</td>\n",
       "      <td>0</td>\n",
       "      <td>1</td>\n",
       "      <td>42085.58</td>\n",
       "    </tr>\n",
       "    <tr>\n",
       "      <th>9998</th>\n",
       "      <td>772</td>\n",
       "      <td>42</td>\n",
       "      <td>3</td>\n",
       "      <td>75075.31</td>\n",
       "      <td>2</td>\n",
       "      <td>1</td>\n",
       "      <td>0</td>\n",
       "      <td>92888.52</td>\n",
       "    </tr>\n",
       "    <tr>\n",
       "      <th>9999</th>\n",
       "      <td>792</td>\n",
       "      <td>28</td>\n",
       "      <td>4</td>\n",
       "      <td>130142.79</td>\n",
       "      <td>1</td>\n",
       "      <td>1</td>\n",
       "      <td>0</td>\n",
       "      <td>38190.78</td>\n",
       "    </tr>\n",
       "  </tbody>\n",
       "</table>\n",
       "<p>10000 rows × 8 columns</p>\n",
       "</div>"
      ],
      "text/plain": [
       "      CreditScore  Age  Tenure    Balance  NumOfProducts  HasCrCard  \\\n",
       "0             619   42       2       0.00              1          1   \n",
       "1             608   41       1   83807.86              1          0   \n",
       "2             502   42       8  159660.80              3          1   \n",
       "3             699   39       1       0.00              2          0   \n",
       "4             850   43       2  125510.82              1          1   \n",
       "...           ...  ...     ...        ...            ...        ...   \n",
       "9995          771   39       5       0.00              2          1   \n",
       "9996          516   35      10   57369.61              1          1   \n",
       "9997          709   36       7       0.00              1          0   \n",
       "9998          772   42       3   75075.31              2          1   \n",
       "9999          792   28       4  130142.79              1          1   \n",
       "\n",
       "      IsActiveMember  EstimatedSalary  \n",
       "0                  1        101348.88  \n",
       "1                  1        112542.58  \n",
       "2                  0        113931.57  \n",
       "3                  0         93826.63  \n",
       "4                  1         79084.10  \n",
       "...              ...              ...  \n",
       "9995               0         96270.64  \n",
       "9996               1        101699.77  \n",
       "9997               1         42085.58  \n",
       "9998               0         92888.52  \n",
       "9999               0         38190.78  \n",
       "\n",
       "[10000 rows x 8 columns]"
      ]
     },
     "execution_count": 8,
     "metadata": {},
     "output_type": "execute_result"
    }
   ],
   "source": [
    "X"
   ]
  },
  {
   "cell_type": "code",
   "execution_count": 9,
   "id": "edfe0d2f",
   "metadata": {},
   "outputs": [],
   "source": [
    "X=pd.concat([X,geography,gender],axis=1)"
   ]
  },
  {
   "cell_type": "code",
   "execution_count": 10,
   "id": "795dd5d7",
   "metadata": {},
   "outputs": [
    {
     "data": {
      "text/html": [
       "<div>\n",
       "<style scoped>\n",
       "    .dataframe tbody tr th:only-of-type {\n",
       "        vertical-align: middle;\n",
       "    }\n",
       "\n",
       "    .dataframe tbody tr th {\n",
       "        vertical-align: top;\n",
       "    }\n",
       "\n",
       "    .dataframe thead th {\n",
       "        text-align: right;\n",
       "    }\n",
       "</style>\n",
       "<table border=\"1\" class=\"dataframe\">\n",
       "  <thead>\n",
       "    <tr style=\"text-align: right;\">\n",
       "      <th></th>\n",
       "      <th>CreditScore</th>\n",
       "      <th>Age</th>\n",
       "      <th>Tenure</th>\n",
       "      <th>Balance</th>\n",
       "      <th>NumOfProducts</th>\n",
       "      <th>HasCrCard</th>\n",
       "      <th>IsActiveMember</th>\n",
       "      <th>EstimatedSalary</th>\n",
       "      <th>Germany</th>\n",
       "      <th>Spain</th>\n",
       "      <th>Male</th>\n",
       "    </tr>\n",
       "  </thead>\n",
       "  <tbody>\n",
       "    <tr>\n",
       "      <th>0</th>\n",
       "      <td>619</td>\n",
       "      <td>42</td>\n",
       "      <td>2</td>\n",
       "      <td>0.00</td>\n",
       "      <td>1</td>\n",
       "      <td>1</td>\n",
       "      <td>1</td>\n",
       "      <td>101348.88</td>\n",
       "      <td>False</td>\n",
       "      <td>False</td>\n",
       "      <td>False</td>\n",
       "    </tr>\n",
       "    <tr>\n",
       "      <th>1</th>\n",
       "      <td>608</td>\n",
       "      <td>41</td>\n",
       "      <td>1</td>\n",
       "      <td>83807.86</td>\n",
       "      <td>1</td>\n",
       "      <td>0</td>\n",
       "      <td>1</td>\n",
       "      <td>112542.58</td>\n",
       "      <td>False</td>\n",
       "      <td>True</td>\n",
       "      <td>False</td>\n",
       "    </tr>\n",
       "    <tr>\n",
       "      <th>2</th>\n",
       "      <td>502</td>\n",
       "      <td>42</td>\n",
       "      <td>8</td>\n",
       "      <td>159660.80</td>\n",
       "      <td>3</td>\n",
       "      <td>1</td>\n",
       "      <td>0</td>\n",
       "      <td>113931.57</td>\n",
       "      <td>False</td>\n",
       "      <td>False</td>\n",
       "      <td>False</td>\n",
       "    </tr>\n",
       "    <tr>\n",
       "      <th>3</th>\n",
       "      <td>699</td>\n",
       "      <td>39</td>\n",
       "      <td>1</td>\n",
       "      <td>0.00</td>\n",
       "      <td>2</td>\n",
       "      <td>0</td>\n",
       "      <td>0</td>\n",
       "      <td>93826.63</td>\n",
       "      <td>False</td>\n",
       "      <td>False</td>\n",
       "      <td>False</td>\n",
       "    </tr>\n",
       "    <tr>\n",
       "      <th>4</th>\n",
       "      <td>850</td>\n",
       "      <td>43</td>\n",
       "      <td>2</td>\n",
       "      <td>125510.82</td>\n",
       "      <td>1</td>\n",
       "      <td>1</td>\n",
       "      <td>1</td>\n",
       "      <td>79084.10</td>\n",
       "      <td>False</td>\n",
       "      <td>True</td>\n",
       "      <td>False</td>\n",
       "    </tr>\n",
       "    <tr>\n",
       "      <th>...</th>\n",
       "      <td>...</td>\n",
       "      <td>...</td>\n",
       "      <td>...</td>\n",
       "      <td>...</td>\n",
       "      <td>...</td>\n",
       "      <td>...</td>\n",
       "      <td>...</td>\n",
       "      <td>...</td>\n",
       "      <td>...</td>\n",
       "      <td>...</td>\n",
       "      <td>...</td>\n",
       "    </tr>\n",
       "    <tr>\n",
       "      <th>9995</th>\n",
       "      <td>771</td>\n",
       "      <td>39</td>\n",
       "      <td>5</td>\n",
       "      <td>0.00</td>\n",
       "      <td>2</td>\n",
       "      <td>1</td>\n",
       "      <td>0</td>\n",
       "      <td>96270.64</td>\n",
       "      <td>False</td>\n",
       "      <td>False</td>\n",
       "      <td>True</td>\n",
       "    </tr>\n",
       "    <tr>\n",
       "      <th>9996</th>\n",
       "      <td>516</td>\n",
       "      <td>35</td>\n",
       "      <td>10</td>\n",
       "      <td>57369.61</td>\n",
       "      <td>1</td>\n",
       "      <td>1</td>\n",
       "      <td>1</td>\n",
       "      <td>101699.77</td>\n",
       "      <td>False</td>\n",
       "      <td>False</td>\n",
       "      <td>True</td>\n",
       "    </tr>\n",
       "    <tr>\n",
       "      <th>9997</th>\n",
       "      <td>709</td>\n",
       "      <td>36</td>\n",
       "      <td>7</td>\n",
       "      <td>0.00</td>\n",
       "      <td>1</td>\n",
       "      <td>0</td>\n",
       "      <td>1</td>\n",
       "      <td>42085.58</td>\n",
       "      <td>False</td>\n",
       "      <td>False</td>\n",
       "      <td>False</td>\n",
       "    </tr>\n",
       "    <tr>\n",
       "      <th>9998</th>\n",
       "      <td>772</td>\n",
       "      <td>42</td>\n",
       "      <td>3</td>\n",
       "      <td>75075.31</td>\n",
       "      <td>2</td>\n",
       "      <td>1</td>\n",
       "      <td>0</td>\n",
       "      <td>92888.52</td>\n",
       "      <td>True</td>\n",
       "      <td>False</td>\n",
       "      <td>True</td>\n",
       "    </tr>\n",
       "    <tr>\n",
       "      <th>9999</th>\n",
       "      <td>792</td>\n",
       "      <td>28</td>\n",
       "      <td>4</td>\n",
       "      <td>130142.79</td>\n",
       "      <td>1</td>\n",
       "      <td>1</td>\n",
       "      <td>0</td>\n",
       "      <td>38190.78</td>\n",
       "      <td>False</td>\n",
       "      <td>False</td>\n",
       "      <td>False</td>\n",
       "    </tr>\n",
       "  </tbody>\n",
       "</table>\n",
       "<p>10000 rows × 11 columns</p>\n",
       "</div>"
      ],
      "text/plain": [
       "      CreditScore  Age  Tenure    Balance  NumOfProducts  HasCrCard  \\\n",
       "0             619   42       2       0.00              1          1   \n",
       "1             608   41       1   83807.86              1          0   \n",
       "2             502   42       8  159660.80              3          1   \n",
       "3             699   39       1       0.00              2          0   \n",
       "4             850   43       2  125510.82              1          1   \n",
       "...           ...  ...     ...        ...            ...        ...   \n",
       "9995          771   39       5       0.00              2          1   \n",
       "9996          516   35      10   57369.61              1          1   \n",
       "9997          709   36       7       0.00              1          0   \n",
       "9998          772   42       3   75075.31              2          1   \n",
       "9999          792   28       4  130142.79              1          1   \n",
       "\n",
       "      IsActiveMember  EstimatedSalary  Germany  Spain   Male  \n",
       "0                  1        101348.88    False  False  False  \n",
       "1                  1        112542.58    False   True  False  \n",
       "2                  0        113931.57    False  False  False  \n",
       "3                  0         93826.63    False  False  False  \n",
       "4                  1         79084.10    False   True  False  \n",
       "...              ...              ...      ...    ...    ...  \n",
       "9995               0         96270.64    False  False   True  \n",
       "9996               1        101699.77    False  False   True  \n",
       "9997               1         42085.58    False  False  False  \n",
       "9998               0         92888.52     True  False   True  \n",
       "9999               0         38190.78    False  False  False  \n",
       "\n",
       "[10000 rows x 11 columns]"
      ]
     },
     "execution_count": 10,
     "metadata": {},
     "output_type": "execute_result"
    }
   ],
   "source": [
    "X"
   ]
  },
  {
   "cell_type": "code",
   "execution_count": 11,
   "id": "8bef6759",
   "metadata": {},
   "outputs": [],
   "source": [
    "#splitting the dataset into training and testing sets\n",
    "from sklearn.model_selection import train_test_split\n",
    "X_train, X_test, y_train, y_test = train_test_split(X, y, test_size=0.2, random_state=0)   "
   ]
  },
  {
   "cell_type": "code",
   "execution_count": 12,
   "id": "35a269f1",
   "metadata": {},
   "outputs": [],
   "source": [
    "#Feature Scaling\n",
    "from sklearn.preprocessing import StandardScaler\n",
    "sc = StandardScaler()\n",
    "X_train = sc.fit_transform(X_train)\n",
    "X_test = sc.transform(X_test)"
   ]
  },
  {
   "cell_type": "code",
   "execution_count": 13,
   "id": "fb147e61",
   "metadata": {},
   "outputs": [
    {
     "data": {
      "text/plain": [
       "array([[ 0.16958176, -0.46460796,  0.00666099, ..., -0.5698444 ,\n",
       "         1.74309049, -1.09168714],\n",
       "       [-2.30455945,  0.30102557, -1.37744033, ...,  1.75486502,\n",
       "        -0.57369368,  0.91601335],\n",
       "       [-1.19119591, -0.94312892, -1.031415  , ..., -0.5698444 ,\n",
       "        -0.57369368, -1.09168714],\n",
       "       ...,\n",
       "       [ 0.9015152 , -0.36890377,  0.00666099, ..., -0.5698444 ,\n",
       "        -0.57369368,  0.91601335],\n",
       "       [-0.62420521, -0.08179119,  1.39076231, ..., -0.5698444 ,\n",
       "         1.74309049, -1.09168714],\n",
       "       [-0.28401079,  0.87525072, -1.37744033, ...,  1.75486502,\n",
       "        -0.57369368, -1.09168714]])"
      ]
     },
     "execution_count": 13,
     "metadata": {},
     "output_type": "execute_result"
    }
   ],
   "source": [
    "X_train"
   ]
  },
  {
   "cell_type": "code",
   "execution_count": 14,
   "id": "909c13c5",
   "metadata": {},
   "outputs": [
    {
     "data": {
      "text/plain": [
       "array([[-0.55204276, -0.36890377,  1.04473698, ...,  1.75486502,\n",
       "        -0.57369368, -1.09168714],\n",
       "       [-1.31490297,  0.10961719, -1.031415  , ..., -0.5698444 ,\n",
       "        -0.57369368, -1.09168714],\n",
       "       [ 0.57162971,  0.30102557,  1.04473698, ..., -0.5698444 ,\n",
       "         1.74309049, -1.09168714],\n",
       "       ...,\n",
       "       [-0.74791227, -0.27319958, -1.37744033, ..., -0.5698444 ,\n",
       "         1.74309049,  0.91601335],\n",
       "       [-0.00566991, -0.46460796, -0.33936434, ...,  1.75486502,\n",
       "        -0.57369368,  0.91601335],\n",
       "       [-0.79945688, -0.84742473,  1.04473698, ...,  1.75486502,\n",
       "        -0.57369368,  0.91601335]])"
      ]
     },
     "execution_count": 14,
     "metadata": {},
     "output_type": "execute_result"
    }
   ],
   "source": [
    "X_test"
   ]
  },
  {
   "cell_type": "code",
   "execution_count": 15,
   "id": "384b48b4",
   "metadata": {},
   "outputs": [
    {
     "data": {
      "text/plain": [
       "(8000, 11)"
      ]
     },
     "execution_count": 15,
     "metadata": {},
     "output_type": "execute_result"
    }
   ],
   "source": [
    "X_train.shape"
   ]
  },
  {
   "cell_type": "code",
   "execution_count": 16,
   "id": "a7f9a603",
   "metadata": {},
   "outputs": [
    {
     "data": {
      "text/plain": [
       "(2000, 11)"
      ]
     },
     "execution_count": 16,
     "metadata": {},
     "output_type": "execute_result"
    }
   ],
   "source": [
    "X_test.shape"
   ]
  },
  {
   "cell_type": "markdown",
   "id": "0a3416f5",
   "metadata": {},
   "source": [
    "## ANN Implimentation"
   ]
  },
  {
   "cell_type": "code",
   "execution_count": 17,
   "id": "458d39a9",
   "metadata": {},
   "outputs": [],
   "source": [
    "from tensorflow.keras.models import Sequential\n",
    "from tensorflow.keras.layers import Dense\n",
    "from tensorflow.keras.layers import ReLU,LeakyReLU,PReLU,ELU\n",
    "from tensorflow.keras.layers import Dropout"
   ]
  },
  {
   "cell_type": "code",
   "execution_count": 18,
   "id": "f9baaab1",
   "metadata": {},
   "outputs": [
    {
     "name": "stdout",
     "output_type": "stream",
     "text": [
      "WARNING:tensorflow:From c:\\Users\\supra\\anaconda3\\envs\\w2v\\lib\\site-packages\\keras\\src\\backend.py:873: The name tf.get_default_graph is deprecated. Please use tf.compat.v1.get_default_graph instead.\n",
      "\n"
     ]
    }
   ],
   "source": [
    "#initialize the ANN\n",
    "classifier = Sequential()"
   ]
  },
  {
   "cell_type": "code",
   "execution_count": 19,
   "id": "83f2ca3b",
   "metadata": {},
   "outputs": [],
   "source": [
    "#Adding the input layer\n",
    "classifier.add(Dense(units=11,activation='relu'))"
   ]
  },
  {
   "cell_type": "code",
   "execution_count": 20,
   "id": "a567c388",
   "metadata": {},
   "outputs": [],
   "source": [
    "#adding the first hidden layer\n",
    "classifier.add(Dense(units=7,activation='relu'))\n",
    "classifier.add(Dropout(rate=0.2))"
   ]
  },
  {
   "cell_type": "code",
   "execution_count": 21,
   "id": "d10ad294",
   "metadata": {},
   "outputs": [],
   "source": [
    "#adding the second hidden layer\n",
    "classifier.add(Dense(units=5,activation='relu'))\n",
    "classifier.add(Dropout(rate=0.3))"
   ]
  },
  {
   "cell_type": "code",
   "execution_count": 22,
   "id": "db6a30c6",
   "metadata": {},
   "outputs": [],
   "source": [
    "#Adding the output layer\n",
    "classifier.add(Dense(units=1,activation='sigmoid'))"
   ]
  },
  {
   "cell_type": "code",
   "execution_count": 23,
   "id": "3c27a114",
   "metadata": {},
   "outputs": [
    {
     "name": "stdout",
     "output_type": "stream",
     "text": [
      "WARNING:tensorflow:From c:\\Users\\supra\\anaconda3\\envs\\w2v\\lib\\site-packages\\keras\\src\\optimizers\\__init__.py:309: The name tf.train.Optimizer is deprecated. Please use tf.compat.v1.train.Optimizer instead.\n",
      "\n"
     ]
    }
   ],
   "source": [
    "classifier.compile(optimizer='adam',loss='binary_crossentropy',metrics=['accuracy'])"
   ]
  },
  {
   "cell_type": "code",
   "execution_count": 24,
   "id": "8535f8e7",
   "metadata": {},
   "outputs": [],
   "source": [
    "#Early Stopping\n",
    "from tensorflow.keras.callbacks import EarlyStopping\n",
    "early_stopping = EarlyStopping(monitor='val_loss', patience=20,verbose=1, mode='auto',restore_best_weights=True)"
   ]
  },
  {
   "cell_type": "code",
   "execution_count": 25,
   "id": "839d4964",
   "metadata": {},
   "outputs": [
    {
     "name": "stdout",
     "output_type": "stream",
     "text": [
      "Epoch 1/1000\n",
      "WARNING:tensorflow:From c:\\Users\\supra\\anaconda3\\envs\\w2v\\lib\\site-packages\\keras\\src\\utils\\tf_utils.py:492: The name tf.ragged.RaggedTensorValue is deprecated. Please use tf.compat.v1.ragged.RaggedTensorValue instead.\n",
      "\n",
      "WARNING:tensorflow:From c:\\Users\\supra\\anaconda3\\envs\\w2v\\lib\\site-packages\\keras\\src\\engine\\base_layer_utils.py:384: The name tf.executing_eagerly_outside_functions is deprecated. Please use tf.compat.v1.executing_eagerly_outside_functions instead.\n",
      "\n",
      "536/536 [==============================] - 2s 2ms/step - loss: 0.5672 - accuracy: 0.7666 - val_loss: 0.4862 - val_accuracy: 0.7955\n",
      "Epoch 2/1000\n",
      "536/536 [==============================] - 1s 1ms/step - loss: 0.4938 - accuracy: 0.7966 - val_loss: 0.4504 - val_accuracy: 0.7955\n",
      "Epoch 3/1000\n",
      "536/536 [==============================] - 1s 1ms/step - loss: 0.4711 - accuracy: 0.7951 - val_loss: 0.4416 - val_accuracy: 0.7955\n",
      "Epoch 4/1000\n",
      "536/536 [==============================] - 1s 1ms/step - loss: 0.4598 - accuracy: 0.7962 - val_loss: 0.4369 - val_accuracy: 0.7955\n",
      "Epoch 5/1000\n",
      "536/536 [==============================] - 1s 1ms/step - loss: 0.4534 - accuracy: 0.7964 - val_loss: 0.4361 - val_accuracy: 0.7955\n",
      "Epoch 6/1000\n",
      "536/536 [==============================] - 1s 1ms/step - loss: 0.4482 - accuracy: 0.8026 - val_loss: 0.4339 - val_accuracy: 0.7955\n",
      "Epoch 7/1000\n",
      "536/536 [==============================] - 1s 1ms/step - loss: 0.4491 - accuracy: 0.7994 - val_loss: 0.4327 - val_accuracy: 0.7955\n",
      "Epoch 8/1000\n",
      "536/536 [==============================] - 1s 1ms/step - loss: 0.4474 - accuracy: 0.7988 - val_loss: 0.4303 - val_accuracy: 0.7955\n",
      "Epoch 9/1000\n",
      "536/536 [==============================] - 1s 1ms/step - loss: 0.4456 - accuracy: 0.7987 - val_loss: 0.4269 - val_accuracy: 0.7955\n",
      "Epoch 10/1000\n",
      "536/536 [==============================] - 1s 1ms/step - loss: 0.4367 - accuracy: 0.7975 - val_loss: 0.4236 - val_accuracy: 0.7955\n",
      "Epoch 11/1000\n",
      "536/536 [==============================] - 1s 2ms/step - loss: 0.4240 - accuracy: 0.8067 - val_loss: 0.4111 - val_accuracy: 0.8122\n",
      "Epoch 12/1000\n",
      "536/536 [==============================] - 1s 2ms/step - loss: 0.4240 - accuracy: 0.8128 - val_loss: 0.4050 - val_accuracy: 0.8164\n",
      "Epoch 13/1000\n",
      "536/536 [==============================] - 1s 1ms/step - loss: 0.4148 - accuracy: 0.8220 - val_loss: 0.3993 - val_accuracy: 0.8281\n",
      "Epoch 14/1000\n",
      "536/536 [==============================] - 1s 1ms/step - loss: 0.4035 - accuracy: 0.8253 - val_loss: 0.3945 - val_accuracy: 0.8334\n",
      "Epoch 15/1000\n",
      "536/536 [==============================] - 1s 1ms/step - loss: 0.3958 - accuracy: 0.8317 - val_loss: 0.3894 - val_accuracy: 0.8372\n",
      "Epoch 16/1000\n",
      "536/536 [==============================] - 1s 1ms/step - loss: 0.3917 - accuracy: 0.8362 - val_loss: 0.3850 - val_accuracy: 0.8425\n",
      "Epoch 17/1000\n",
      "536/536 [==============================] - 1s 1ms/step - loss: 0.3887 - accuracy: 0.8378 - val_loss: 0.3791 - val_accuracy: 0.8398\n",
      "Epoch 18/1000\n",
      "536/536 [==============================] - 1s 1ms/step - loss: 0.3775 - accuracy: 0.8425 - val_loss: 0.3764 - val_accuracy: 0.8376\n",
      "Epoch 19/1000\n",
      "536/536 [==============================] - 1s 1ms/step - loss: 0.3799 - accuracy: 0.8358 - val_loss: 0.3746 - val_accuracy: 0.8395\n",
      "Epoch 20/1000\n",
      "536/536 [==============================] - 1s 1ms/step - loss: 0.3752 - accuracy: 0.8427 - val_loss: 0.3698 - val_accuracy: 0.8417\n",
      "Epoch 21/1000\n",
      "536/536 [==============================] - 1s 1ms/step - loss: 0.3710 - accuracy: 0.8459 - val_loss: 0.3719 - val_accuracy: 0.8421\n",
      "Epoch 22/1000\n",
      "536/536 [==============================] - 1s 1ms/step - loss: 0.3704 - accuracy: 0.8438 - val_loss: 0.3668 - val_accuracy: 0.8425\n",
      "Epoch 23/1000\n",
      "536/536 [==============================] - 1s 1ms/step - loss: 0.3688 - accuracy: 0.8451 - val_loss: 0.3675 - val_accuracy: 0.8448\n",
      "Epoch 24/1000\n",
      "536/536 [==============================] - 1s 1ms/step - loss: 0.3701 - accuracy: 0.8483 - val_loss: 0.3655 - val_accuracy: 0.8470\n",
      "Epoch 25/1000\n",
      "536/536 [==============================] - 1s 1ms/step - loss: 0.3684 - accuracy: 0.8457 - val_loss: 0.3650 - val_accuracy: 0.8451\n",
      "Epoch 26/1000\n",
      "536/536 [==============================] - 1s 1ms/step - loss: 0.3650 - accuracy: 0.8487 - val_loss: 0.3635 - val_accuracy: 0.8482\n",
      "Epoch 27/1000\n",
      "536/536 [==============================] - 1s 1ms/step - loss: 0.3605 - accuracy: 0.8539 - val_loss: 0.3654 - val_accuracy: 0.8421\n",
      "Epoch 28/1000\n",
      "536/536 [==============================] - 1s 1ms/step - loss: 0.3710 - accuracy: 0.8433 - val_loss: 0.3643 - val_accuracy: 0.8470\n",
      "Epoch 29/1000\n",
      "536/536 [==============================] - 1s 1ms/step - loss: 0.3691 - accuracy: 0.8485 - val_loss: 0.3653 - val_accuracy: 0.8482\n",
      "Epoch 30/1000\n",
      "536/536 [==============================] - 1s 1ms/step - loss: 0.3683 - accuracy: 0.8479 - val_loss: 0.3640 - val_accuracy: 0.8501\n",
      "Epoch 31/1000\n",
      "536/536 [==============================] - 1s 1ms/step - loss: 0.3626 - accuracy: 0.8498 - val_loss: 0.3632 - val_accuracy: 0.8466\n",
      "Epoch 32/1000\n",
      "536/536 [==============================] - 1s 1ms/step - loss: 0.3589 - accuracy: 0.8526 - val_loss: 0.3621 - val_accuracy: 0.8523\n",
      "Epoch 33/1000\n",
      "536/536 [==============================] - 1s 1ms/step - loss: 0.3676 - accuracy: 0.8475 - val_loss: 0.3632 - val_accuracy: 0.8466\n",
      "Epoch 34/1000\n",
      "536/536 [==============================] - 1s 1ms/step - loss: 0.3668 - accuracy: 0.8522 - val_loss: 0.3627 - val_accuracy: 0.8466\n",
      "Epoch 35/1000\n",
      "536/536 [==============================] - 1s 1ms/step - loss: 0.3658 - accuracy: 0.8487 - val_loss: 0.3623 - val_accuracy: 0.8493\n",
      "Epoch 36/1000\n",
      "536/536 [==============================] - 1s 1ms/step - loss: 0.3629 - accuracy: 0.8485 - val_loss: 0.3635 - val_accuracy: 0.8501\n",
      "Epoch 37/1000\n",
      "536/536 [==============================] - 1s 2ms/step - loss: 0.3609 - accuracy: 0.8530 - val_loss: 0.3634 - val_accuracy: 0.8459\n",
      "Epoch 38/1000\n",
      "536/536 [==============================] - 1s 2ms/step - loss: 0.3578 - accuracy: 0.8526 - val_loss: 0.3637 - val_accuracy: 0.8493\n",
      "Epoch 39/1000\n",
      "536/536 [==============================] - 1s 1ms/step - loss: 0.3617 - accuracy: 0.8498 - val_loss: 0.3629 - val_accuracy: 0.8485\n",
      "Epoch 40/1000\n",
      "536/536 [==============================] - 1s 1ms/step - loss: 0.3619 - accuracy: 0.8541 - val_loss: 0.3617 - val_accuracy: 0.8448\n",
      "Epoch 41/1000\n",
      "536/536 [==============================] - 1s 2ms/step - loss: 0.3633 - accuracy: 0.8545 - val_loss: 0.3608 - val_accuracy: 0.8482\n",
      "Epoch 42/1000\n",
      "536/536 [==============================] - 1s 2ms/step - loss: 0.3673 - accuracy: 0.8513 - val_loss: 0.3613 - val_accuracy: 0.8504\n",
      "Epoch 43/1000\n",
      "536/536 [==============================] - 1s 1ms/step - loss: 0.3581 - accuracy: 0.8496 - val_loss: 0.3603 - val_accuracy: 0.8489\n",
      "Epoch 44/1000\n",
      "536/536 [==============================] - 1s 1ms/step - loss: 0.3566 - accuracy: 0.8543 - val_loss: 0.3611 - val_accuracy: 0.8501\n",
      "Epoch 45/1000\n",
      "536/536 [==============================] - 1s 1ms/step - loss: 0.3595 - accuracy: 0.8502 - val_loss: 0.3617 - val_accuracy: 0.8466\n",
      "Epoch 46/1000\n",
      "536/536 [==============================] - 1s 1ms/step - loss: 0.3578 - accuracy: 0.8511 - val_loss: 0.3626 - val_accuracy: 0.8493\n",
      "Epoch 47/1000\n",
      "536/536 [==============================] - 1s 1ms/step - loss: 0.3619 - accuracy: 0.8492 - val_loss: 0.3633 - val_accuracy: 0.8489\n",
      "Epoch 48/1000\n",
      "536/536 [==============================] - 1s 1ms/step - loss: 0.3615 - accuracy: 0.8483 - val_loss: 0.3625 - val_accuracy: 0.8444\n",
      "Epoch 49/1000\n",
      "536/536 [==============================] - 1s 1ms/step - loss: 0.3603 - accuracy: 0.8524 - val_loss: 0.3617 - val_accuracy: 0.8489\n",
      "Epoch 50/1000\n",
      "536/536 [==============================] - 1s 1ms/step - loss: 0.3566 - accuracy: 0.8515 - val_loss: 0.3635 - val_accuracy: 0.8474\n",
      "Epoch 51/1000\n",
      "536/536 [==============================] - 1s 1ms/step - loss: 0.3541 - accuracy: 0.8524 - val_loss: 0.3625 - val_accuracy: 0.8493\n",
      "Epoch 52/1000\n",
      "536/536 [==============================] - 1s 1ms/step - loss: 0.3541 - accuracy: 0.8537 - val_loss: 0.3622 - val_accuracy: 0.8501\n",
      "Epoch 53/1000\n",
      "536/536 [==============================] - 1s 1ms/step - loss: 0.3603 - accuracy: 0.8503 - val_loss: 0.3615 - val_accuracy: 0.8478\n",
      "Epoch 54/1000\n",
      "536/536 [==============================] - 1s 1ms/step - loss: 0.3537 - accuracy: 0.8546 - val_loss: 0.3614 - val_accuracy: 0.8512\n",
      "Epoch 55/1000\n",
      "536/536 [==============================] - 1s 1ms/step - loss: 0.3565 - accuracy: 0.8530 - val_loss: 0.3609 - val_accuracy: 0.8512\n",
      "Epoch 56/1000\n",
      "536/536 [==============================] - 1s 1ms/step - loss: 0.3502 - accuracy: 0.8582 - val_loss: 0.3616 - val_accuracy: 0.8497\n",
      "Epoch 57/1000\n",
      "536/536 [==============================] - 1s 1ms/step - loss: 0.3508 - accuracy: 0.8563 - val_loss: 0.3628 - val_accuracy: 0.8519\n",
      "Epoch 58/1000\n",
      "536/536 [==============================] - 1s 1ms/step - loss: 0.3553 - accuracy: 0.8554 - val_loss: 0.3662 - val_accuracy: 0.8485\n",
      "Epoch 59/1000\n",
      "536/536 [==============================] - 1s 1ms/step - loss: 0.3569 - accuracy: 0.8535 - val_loss: 0.3628 - val_accuracy: 0.8493\n",
      "Epoch 60/1000\n",
      "536/536 [==============================] - 1s 1ms/step - loss: 0.3500 - accuracy: 0.8580 - val_loss: 0.3604 - val_accuracy: 0.8504\n",
      "Epoch 61/1000\n",
      "536/536 [==============================] - 1s 1ms/step - loss: 0.3504 - accuracy: 0.8550 - val_loss: 0.3620 - val_accuracy: 0.8527\n",
      "Epoch 62/1000\n",
      "536/536 [==============================] - 1s 1ms/step - loss: 0.3594 - accuracy: 0.8535 - val_loss: 0.3616 - val_accuracy: 0.8482\n",
      "Epoch 63/1000\n",
      "492/536 [==========================>...] - ETA: 0s - loss: 0.3489 - accuracy: 0.8589Restoring model weights from the end of the best epoch: 43.\n",
      "536/536 [==============================] - 1s 1ms/step - loss: 0.3534 - accuracy: 0.8561 - val_loss: 0.3624 - val_accuracy: 0.8482\n",
      "Epoch 63: early stopping\n"
     ]
    }
   ],
   "source": [
    "model_history=classifier.fit(X_train,y_train,validation_split=0.33,batch_size=10,epochs=1000,callbacks=early_stopping)"
   ]
  },
  {
   "cell_type": "code",
   "execution_count": 26,
   "id": "934601f3",
   "metadata": {},
   "outputs": [
    {
     "data": {
      "text/plain": [
       "dict_keys(['loss', 'accuracy', 'val_loss', 'val_accuracy'])"
      ]
     },
     "execution_count": 26,
     "metadata": {},
     "output_type": "execute_result"
    }
   ],
   "source": [
    "model_history.history.keys()"
   ]
  },
  {
   "cell_type": "code",
   "execution_count": 27,
   "id": "85936f6b",
   "metadata": {},
   "outputs": [
    {
     "data": {
      "image/png": "[encoded data removed]",
      "text/plain": [
       "<Figure size 640x480 with 1 Axes>"
      ]
     },
     "metadata": {},
     "output_type": "display_data"
    }
   ],
   "source": [
    "#summarize history for accuracy\n",
    "plt.plot(model_history.history['accuracy'])\n",
    "plt.plot(model_history.history['val_accuracy'])\n",
    "plt.title('model accuracy')\n",
    "plt.ylabel('accuracy')\n",
    "plt.xlabel('epoch')\n",
    "plt.legend(['train', 'test'], loc='upper left')\n",
    "plt.show()"
   ]
  },
  {
   "cell_type": "code",
   "execution_count": 28,
   "id": "e36df654",
   "metadata": {},
   "outputs": [
    {
     "data": {
      "image/png": "[encoded data removed]",
      "text/plain": [
       "<Figure size 640x480 with 1 Axes>"
      ]
     },
     "metadata": {},
     "output_type": "display_data"
    }
   ],
   "source": [
    "#summarize history for loss\n",
    "plt.plot(model_history.history['loss'])\n",
    "plt.plot(model_history.history['val_loss'])\n",
    "plt.title('model loss')\n",
    "plt.ylabel('loss')\n",
    "plt.xlabel('epoch')\n",
    "plt.legend(['train', 'test'], loc='upper left')\n",
    "plt.show()"
   ]
  },
  {
   "cell_type": "code",
   "execution_count": 29,
   "id": "46682c2f",
   "metadata": {},
   "outputs": [
    {
     "name": "stdout",
     "output_type": "stream",
     "text": [
      "63/63 [==============================] - 0s 698us/step\n"
     ]
    }
   ],
   "source": [
    "#predicting the test results\n",
    "y_pred=classifier.predict(X_test)\n",
    "y_pred=(y_pred>0.5)"
   ]
  },
  {
   "cell_type": "code",
   "execution_count": 30,
   "id": "169fef07",
   "metadata": {},
   "outputs": [
    {
     "data": {
      "text/plain": [
       "array([[1550,   45],\n",
       "       [ 224,  181]], dtype=int64)"
      ]
     },
     "execution_count": 30,
     "metadata": {},
     "output_type": "execute_result"
    }
   ],
   "source": [
    "#make the confusion matrix\n",
    "from sklearn.metrics import confusion_matrix\n",
    "cm=confusion_matrix(y_test,y_pred)\n",
    "cm"
   ]
  },
  {
   "cell_type": "code",
   "execution_count": 31,
   "id": "667be199",
   "metadata": {},
   "outputs": [
    {
     "data": {
      "text/plain": [
       "0.8655"
      ]
     },
     "execution_count": 31,
     "metadata": {},
     "output_type": "execute_result"
    }
   ],
   "source": [
    "#calculate the accuracy\n",
    "from sklearn.metrics import accuracy_score\n",
    "accuracy_score(y_test,y_pred)"
   ]
  },
  {
   "cell_type": "code",
   "execution_count": 32,
   "id": "8d8dccf7",
   "metadata": {},
   "outputs": [],
   "source": [
    "#getting the weights of the ANN\n",
    "weights, biases = classifier.layers[0].get_weights()"
   ]
  },
  {
   "cell_type": "code",
   "execution_count": 33,
   "id": "d248b886",
   "metadata": {},
   "outputs": [
    {
     "data": {
      "text/plain": [
       "array([[ 4.64407295e-01, -3.48264314e-02, -2.56390851e-02,\n",
       "        -4.09546494e-02, -3.30417566e-02,  1.53261825e-01,\n",
       "        -6.34773225e-02,  2.98267335e-01,  5.11435270e-02,\n",
       "         3.43327820e-02, -6.79983497e-02],\n",
       "       [-8.21386755e-01, -7.66088486e-01,  1.69277295e-01,\n",
       "        -4.70013499e-01,  3.98770906e-02, -3.33351046e-01,\n",
       "         2.93779522e-01,  2.07342327e-01,  3.15856904e-01,\n",
       "         3.91052097e-01, -6.18703961e-01],\n",
       "       [-1.00246884e-01,  6.47601262e-02,  6.12394363e-02,\n",
       "        -3.92014720e-03,  5.77697717e-02,  2.35294104e-01,\n",
       "         3.39819998e-01, -3.88651788e-01, -2.93337464e-01,\n",
       "         5.82063980e-02, -5.12702763e-03],\n",
       "       [-2.25875467e-01, -3.47619712e-01,  1.13492170e-02,\n",
       "        -7.82074183e-02, -6.01220965e-01, -6.39565587e-01,\n",
       "        -5.58984697e-01,  7.39031704e-03, -1.07100151e-01,\n",
       "        -2.35134467e-01, -3.36632907e-01],\n",
       "       [-2.31908888e-01, -2.08958805e-01,  1.00911462e+00,\n",
       "        -9.62652117e-02, -1.44539571e+00, -3.95314395e-01,\n",
       "        -1.51674509e-01, -9.53037143e-02, -2.23857626e-01,\n",
       "        -2.18941614e-01, -1.02866441e-01],\n",
       "       [ 6.89893216e-02,  6.53466359e-02, -6.58774078e-02,\n",
       "        -3.47094014e-02, -3.12865898e-02,  3.03792685e-01,\n",
       "        -3.01944107e-01, -1.85018778e-01, -2.78285779e-02,\n",
       "         1.88807368e-01, -1.53260350e-01],\n",
       "       [-1.37712374e-01, -1.29600376e-01, -2.89971352e-01,\n",
       "        -2.70251155e-01, -3.41077745e-01,  5.03193021e-01,\n",
       "         2.09651202e-01, -1.33954972e-01,  3.87587734e-02,\n",
       "         5.14631093e-01, -3.41266543e-01],\n",
       "       [ 2.49950677e-01,  1.92908179e-02,  2.42503509e-02,\n",
       "         2.51329094e-02,  1.06810436e-01,  1.28552198e-01,\n",
       "         8.28486383e-02, -2.39076346e-01, -9.94071085e-03,\n",
       "        -3.16673797e-03, -2.03587756e-01],\n",
       "       [-2.03842804e-01, -9.86839756e-02, -5.87715395e-02,\n",
       "         1.53918760e-02,  2.57535726e-01, -1.85426742e-01,\n",
       "        -4.45439547e-01,  8.56050551e-02,  2.92311668e-01,\n",
       "         2.56504953e-01, -1.04506776e-01],\n",
       "       [-2.48972520e-01,  1.42866164e-01,  1.07354484e-01,\n",
       "        -7.23655045e-01, -2.34481283e-02, -1.11035164e-03,\n",
       "        -2.78827380e-02,  1.57453299e-01, -1.69977278e-01,\n",
       "         1.77349687e-01,  1.25142708e-01],\n",
       "       [-7.83323124e-02,  5.31213284e-01, -5.91127984e-02,\n",
       "         1.12809194e-02, -7.83399418e-02,  1.09537259e-01,\n",
       "         7.03815520e-02,  2.31513456e-01, -1.13231726e-01,\n",
       "         9.56675261e-02, -2.82904863e-01]], dtype=float32)"
      ]
     },
     "execution_count": 33,
     "metadata": {},
     "output_type": "execute_result"
    }
   ],
   "source": [
    "weights"
   ]
  },
  {
   "cell_type": "code",
   "execution_count": 34,
   "id": "d59f4774",
   "metadata": {},
   "outputs": [
    {
     "data": {
      "text/plain": [
       "array([ 0.3475539 ,  0.63839954, -0.22770758,  0.21142031,  0.18647306,\n",
       "        0.29214406, -0.011938  , -0.13392168, -0.13889974, -0.12526779,\n",
       "        0.522951  ], dtype=float32)"
      ]
     },
     "execution_count": 34,
     "metadata": {},
     "output_type": "execute_result"
    }
   ],
   "source": [
    "biases"
   ]
  },
  {
   "cell_type": "code",
   "execution_count": null,
   "id": "e3f49481",
   "metadata": {},
   "outputs": [],
   "source": []
  }
 ],
 "metadata": {
  "kernelspec": {
   "display_name": "Python 3",
   "language": "python",
   "name": "python3"
  },
  "language_info": {
   "codemirror_mode": {
    "name": "ipython",
    "version": 3
   },
   "file_extension": ".py",
   "mimetype": "text/x-python",
   "name": "python",
   "nbconvert_exporter": "python",
   "pygments_lexer": "ipython3",
   "version": "3.10.18"
  }
 },
 "nbformat": 4,
 "nbformat_minor": 5
}
